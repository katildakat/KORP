{
 "cells": [
  {
   "cell_type": "markdown",
   "metadata": {},
   "source": [
    "here is some code that i use to download Korp statistics files with. i use Selenium for chrome. i started out with this Selenium tutorial: https://github.com/Tetrix/Selenium-Tutorial (thank you so much, Dejan)\n",
    "\n",
    "i've never done webscaping before, so i am sure there might be more clever ways of doing stuff. for example, getting the number of pages from pagination tab. i am happy to recieve advice with anything.\n",
    "\n",
    "# how to automate Korp statistics downloads\n",
    "This code is connected to my tutorial (get_sentences_from_korp.ipynb) on how to get sentences from Korp. The problem with Korp is that for many corpora there are too many pages of statistics to go through manually. So I wrote this code to (semi) automate it.\n",
    "\n",
    "This code:\n",
    "1. opens a chrome browser window (here you'll need to navigate to the **KWIC** tab from step 1.3 of the tutorail manually)\n",
    "2. selects the data and file formats of your choice\n",
    "3. goes page by page and downloads the files\n",
    "\n",
    "The example in this notebook shows how to download the CSV files for presidential speech used in the get_sentences_from_korp.ipynb tutorial."
   ]
  },
  {
   "cell_type": "code",
   "execution_count": null,
   "metadata": {},
   "outputs": [],
   "source": [
    "import os\n",
    "import selenium\n",
    "from selenium import webdriver\n",
    "from selenium.webdriver.support import expected_conditions as EC\n",
    "from selenium.webdriver.support.ui import WebDriverWait\n",
    "from selenium.webdriver.common.by import By\n",
    "from selenium.webdriver.support.ui import Select\n",
    "import time\n",
    "import glob"
   ]
  },
  {
   "cell_type": "markdown",
   "metadata": {},
   "source": [
    "# download parameters\n",
    "* download_folder - tells chrome where to store the files\n",
    "* file format - I always download CSV.\n",
    "* annot_format - 'Sentence per row, match and contexts separated' to get just sentences. 'Annotations' for tags as well.\n",
    "* link - a link either to just korp or to the specific corpus already. "
   ]
  },
  {
   "cell_type": "code",
   "execution_count": null,
   "metadata": {},
   "outputs": [],
   "source": [
    "download_folder = '/Users/kettu/KORP/SELENIUM/2001'\n",
    "file_format = 'CSV'\n",
    "annot_format = 'Sentence per row, match and contexts separated'\n",
    "link = 'https://korp.csc.fi/#?stats_reduce=text_date&cqp=%5B%5D&lang=en&hpp=1000&search_tab=1&result_tab=2&word_pic&corpus=kotus_ns_presidentti_halonen&search=cqp'"
   ]
  },
  {
   "cell_type": "code",
   "execution_count": null,
   "metadata": {},
   "outputs": [],
   "source": [
    "def open_browser(link, download_folder):\n",
    "    \"\"\"\n",
    "    Opens a chrome browser at a specific korp page set by 'link'.\n",
    "    Sets the folder where the chrome will save the files to. \n",
    "    if the folder doesn't exist, it creates it.\n",
    "    \n",
    "    INPUT:\n",
    "    link - url to open the browser\n",
    "    download_folder - tells chrome where to store the files\n",
    "    \n",
    "    OUTPUT:\n",
    "    driver - a browser with its settings\n",
    "    \"\"\"\n",
    "    # create the download folder if it doesn't exist\n",
    "    if not os.path.exists(download_folder):\n",
    "        print('creating '+ download_folder)\n",
    "        os.mkdir(download_folder)\n",
    "        \n",
    "    chrome_options = webdriver.ChromeOptions()\n",
    "    prefs = {'download.default_directory' : download_folder}\n",
    "    path_to_driver = './chromedriver'\n",
    "    chrome_options.add_experimental_option('prefs', prefs)\n",
    "    driver = webdriver.Chrome(options=chrome_options, executable_path=path_to_driver)\n",
    "    driver.get(link)\n",
    "    \n",
    "    return driver"
   ]
  },
  {
   "cell_type": "code",
   "execution_count": null,
   "metadata": {
    "scrolled": true
   },
   "outputs": [],
   "source": [
    "driver = open_browser(link, download_folder)"
   ]
  },
  {
   "cell_type": "code",
   "execution_count": null,
   "metadata": {},
   "outputs": [],
   "source": [
    "def is_downloaded(download_folder, i):\n",
    "    \"\"\"\n",
    "    Checks if there is any in-progress download in a download foler.\n",
    "    \n",
    "    INPUT:\n",
    "    download_folder - tells chrome where to store the files\n",
    "    i - the number of files that should be downloaded at this point\n",
    "    \"\"\"\n",
    "    file_names = glob.glob(download_folder+'/*')\n",
    "    # if there is unfinished download OR the download hasn't started yet\n",
    "    if any(\".crdownload\" in name for name in file_names) | (len(file_names) != i):\n",
    "        time.sleep(0.5)\n",
    "        is_downloaded(download_folder, i)\n",
    "    else:\n",
    "        print('Download is done')"
   ]
  },
  {
   "cell_type": "code",
   "execution_count": null,
   "metadata": {},
   "outputs": [],
   "source": [
    "def download_korp_files(driver, file_format, annot_format, download_folder):\n",
    "    \"\"\"\n",
    "    Selects the data and file formats you need, \n",
    "    goes page by page and downloads those files.\n",
    "    \n",
    "    note: the number of hits per page is set to 1000\n",
    "    \n",
    "    INPUT:\n",
    "    driver - a browser with its settings\n",
    "    file_format - the file extension for the download files\n",
    "    annot_format - type of data to download\n",
    "    download_folder - tells chrome where to store the files\n",
    "    \"\"\"\n",
    "    \n",
    "    kwic_tab = driver.find_element_by_xpath('/html/body/div[4]/div[2]/div[3]/div/div[1]/div/ul/li[5]/a/uib-tab-heading') \n",
    "    \n",
    "    # select data and file formats to download\n",
    "    select_annot_format = Select(kwic_tab.find_element_by_xpath('/html/body/div[4]/div[2]/div[3]/div/div[1]/div/div/div[5]/div/div[5]/select[1]'))\n",
    "    select_annot_format.select_by_visible_text(annot_format)\n",
    "    \n",
    "    select_file_format = Select(kwic_tab.find_element_by_xpath('/html/body/div[4]/div[2]/div[3]/div/div[1]/div/div/div[5]/div/div[5]/select[2]'))\n",
    "    select_file_format.select_by_visible_text(file_format)\n",
    "    \n",
    "    # getting the number of cvs files to download\n",
    "    results_string = kwic_tab.find_element_by_xpath('//*[@id=\"left-column\"]/div/div/div[5]/div/div[1]')\n",
    "    number_of_words = int(results_string.text.replace('Results: ', '').replace(',',''))\n",
    "    print(number_of_words)\n",
    "    if number_of_words%1000 != 0:\n",
    "        number_of_pages = (number_of_words//1000)+1\n",
    "    else:\n",
    "        number_of_pages = number_of_words/1000\n",
    "    print(\"There are\", number_of_pages, \"files to download\")\n",
    "    # finding a button that switches to the next page\n",
    "    pagination = kwic_tab.find_element_by_xpath('/html/body/div[4]/div[2]/div[3]/div/div[1]/div/div/div[5]/div/div[2]')\n",
    "    next_page = pagination.find_element_by_css_selector(\"a[ng-click='selectPage(page + 1, $event)']\")\n",
    "    \n",
    "    for i in range(1, number_of_pages+1):\n",
    "        print('Downloading part number:', i)\n",
    "        download_button = WebDriverWait(driver, 200).until(EC.element_to_be_clickable((By.XPATH, '/html/body/div[4]/div[2]/div[3]/div/div[1]/div/div/div[5]/div/div[5]/button')))\n",
    "        download_button.click()\n",
    "        # check if the download is done\n",
    "        is_downloaded(download_folder, i)\n",
    "        # go to the next page\n",
    "        next_page.click()"
   ]
  },
  {
   "cell_type": "code",
   "execution_count": null,
   "metadata": {},
   "outputs": [],
   "source": [
    "download_korp_files(driver, file_format, annot_format, download_folder)"
   ]
  }
 ],
 "metadata": {
  "kernelspec": {
   "display_name": "Python 3",
   "language": "python",
   "name": "python3"
  },
  "language_info": {
   "codemirror_mode": {
    "name": "ipython",
    "version": 3
   },
   "file_extension": ".py",
   "mimetype": "text/x-python",
   "name": "python",
   "nbconvert_exporter": "python",
   "pygments_lexer": "ipython3",
   "version": "3.7.4"
  }
 },
 "nbformat": 4,
 "nbformat_minor": 2
}
